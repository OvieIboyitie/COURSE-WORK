{
 "cells": [
  {
   "cell_type": "markdown",
   "id": "859fc50e",
   "metadata": {},
   "source": [
    "# My Jupyter Notebook on IBM Watson Studio"
   ]
  },
  {
   "cell_type": "markdown",
   "id": "beedf993",
   "metadata": {},
   "source": [
    "**OVIE IBOYITIE**\n",
    "\n",
    "Data Scientist\n",
    "\n",
    "  "
   ]
  },
  {
   "cell_type": "markdown",
   "id": "5fcd8349",
   "metadata": {},
   "source": [
    "*I am interested in data science because it gives an enviroment to think, apply my skills, curiosity in a dynamic way. I get to solve proble3ms and face new challenges. The thought of it alone excites me*"
   ]
  },
  {
   "cell_type": "markdown",
   "id": "d4f02b46",
   "metadata": {},
   "source": [
    "### SQUARES A NUMBER"
   ]
  },
  {
   "cell_type": "code",
   "execution_count": 2,
   "id": "e63760c3",
   "metadata": {},
   "outputs": [],
   "source": [
    "def sqaure(x):\n",
    "    return x**2"
   ]
  },
  {
   "cell_type": "markdown",
   "id": "d16dde73",
   "metadata": {},
   "source": [
    "* one\n",
    "* two\n",
    "* three\n",
    "* **four\n",
    "\n",
    "***\n",
    "    thank you\n",
    "***"
   ]
  },
  {
   "cell_type": "code",
   "execution_count": null,
   "id": "7cbe8893",
   "metadata": {},
   "outputs": [],
   "source": []
  }
 ],
 "metadata": {
  "kernelspec": {
   "display_name": "Python 3 (ipykernel)",
   "language": "python",
   "name": "python3"
  },
  "language_info": {
   "codemirror_mode": {
    "name": "ipython",
    "version": 3
   },
   "file_extension": ".py",
   "mimetype": "text/x-python",
   "name": "python",
   "nbconvert_exporter": "python",
   "pygments_lexer": "ipython3",
   "version": "3.9.7"
  }
 },
 "nbformat": 4,
 "nbformat_minor": 5
}
